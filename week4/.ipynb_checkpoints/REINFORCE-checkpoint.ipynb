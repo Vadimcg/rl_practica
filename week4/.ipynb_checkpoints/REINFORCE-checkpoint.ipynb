{
 "cells": [
  {
   "cell_type": "code",
   "execution_count": 11,
   "id": "367d5855",
   "metadata": {},
   "outputs": [],
   "source": [
    "import gym\n",
    "import numpy as np\n",
    "import torch\n",
    "from torch.nn import Module\n",
    "from torch.nn import Linear\n",
    "import torch.nn.functional as F\n",
    "from torch.distributions import Categorical\n",
    "from torch.optim import Adam\n",
    "import matplotlib.pyplot as plt"
   ]
  },
  {
   "cell_type": "code",
   "execution_count": 12,
   "id": "e0677592",
   "metadata": {},
   "outputs": [
    {
     "data": {
      "text/plain": [
       "<torch._C.Generator at 0x274e2879c50>"
      ]
     },
     "execution_count": 12,
     "metadata": {},
     "output_type": "execute_result"
    }
   ],
   "source": [
    "RANDOM_SEED = 99\n",
    "np.random.seed(RANDOM_SEED)\n",
    "torch.manual_seed(RANDOM_SEED)"
   ]
  },
  {
   "cell_type": "code",
   "execution_count": 13,
   "id": "97394b72",
   "metadata": {},
   "outputs": [
    {
     "data": {
      "text/plain": [
       "[99]"
      ]
     },
     "execution_count": 13,
     "metadata": {},
     "output_type": "execute_result"
    }
   ],
   "source": [
    "env = gym.make('CartPole-v0')\n",
    "env.seed(RANDOM_SEED)"
   ]
  },
  {
   "cell_type": "code",
   "execution_count": 14,
   "id": "be0df45a",
   "metadata": {},
   "outputs": [],
   "source": [
    "# Свойста агента\n",
    "STATES_SIZE =env.observation_space.shape[0]\n",
    "ACTION_SIZE =env.action_space.n"
   ]
  },
  {
   "cell_type": "code",
   "execution_count": 17,
   "id": "21def7b1",
   "metadata": {},
   "outputs": [],
   "source": [
    "class PolicyNet(Module):\n",
    "    \n",
    "    def __init__(self,input_size,output_size):\n",
    "        super().__init__()\n",
    "        \n",
    "        self.fc1=Linear(input_size,32)\n",
    "        self.fc2=Linear(32,output_size)\n",
    "    \n",
    "    def forward(self,state):\n",
    "        \n",
    "        x=self.fc1(x)\n",
    "        x=F.relu(x)\n",
    "        x=self.fc2(x)\n",
    "        \n",
    "        return F.softmax(x,dim=1)\n",
    "    \n",
    "    # Функция политики, возвращает действие на састояние и \n",
    "    # логорифм действия\n",
    "    def act(self,state):\n",
    "        props=self.forward(state) \n",
    "        prop_cat=Categorical(props)\n",
    "        # Получаем действие\n",
    "        action=prop_cat.sample()\n",
    "        \n",
    "        return action,prop_cat.log_prob(action)\n",
    "        "
   ]
  },
  {
   "cell_type": "code",
   "execution_count": null,
   "id": "84e95736",
   "metadata": {},
   "outputs": [],
   "source": [
    "rewords=[]"
   ]
  },
  {
   "cell_type": "code",
   "execution_count": 18,
   "id": "c09b79f2",
   "metadata": {},
   "outputs": [
    {
     "ename": "SyntaxError",
     "evalue": "invalid syntax (1686138340.py, line 1)",
     "output_type": "error",
     "traceback": [
      "\u001b[1;36m  Input \u001b[1;32mIn [18]\u001b[1;36m\u001b[0m\n\u001b[1;33m    train(net, optimizer):\u001b[0m\n\u001b[1;37m                          ^\u001b[0m\n\u001b[1;31mSyntaxError\u001b[0m\u001b[1;31m:\u001b[0m invalid syntax\n"
     ]
    }
   ],
   "source": [
    "train(net, optimizer):\n",
    "    "
   ]
  },
  {
   "cell_type": "code",
   "execution_count": 19,
   "id": "c55fb437",
   "metadata": {},
   "outputs": [],
   "source": [
    "policy = PolicyNet(STATES_SIZE,ACTION_SIZE)"
   ]
  },
  {
   "cell_type": "code",
   "execution_count": 21,
   "id": "caf914cb",
   "metadata": {},
   "outputs": [],
   "source": [
    "optimizator = Adam(policy.parameters(),lr=0.01)"
   ]
  },
  {
   "cell_type": "code",
   "execution_count": null,
   "id": "c8ac7ca8",
   "metadata": {},
   "outputs": [],
   "source": [
    "for epoch in range(300):\n",
    "    state = env.reset()\n",
    "    action, log_prob = policy.act(state)\n",
    "    state, reward, done, _ = env.step(action)\n",
    "    rewords.append(reward)\n",
    "    \n",
    "    # Если игра завершинна\n",
    "    if done:\n",
    "        break\n",
    "    "
   ]
  }
 ],
 "metadata": {
  "kernelspec": {
   "display_name": "Python 3 (ipykernel)",
   "language": "python",
   "name": "python3"
  },
  "language_info": {
   "codemirror_mode": {
    "name": "ipython",
    "version": 3
   },
   "file_extension": ".py",
   "mimetype": "text/x-python",
   "name": "python",
   "nbconvert_exporter": "python",
   "pygments_lexer": "ipython3",
   "version": "3.9.7"
  }
 },
 "nbformat": 4,
 "nbformat_minor": 5
}
